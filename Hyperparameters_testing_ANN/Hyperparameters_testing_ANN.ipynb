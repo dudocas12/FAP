{
 "cells": [
  {
   "cell_type": "markdown",
   "id": "c5f50b7c",
   "metadata": {},
   "source": [
    "# Hyperparameter testing for ANN"
   ]
  },
  {
   "cell_type": "markdown",
   "id": "1157ddbd",
   "metadata": {},
   "source": [
    "We start by importing the necessary libraries and setting the random seed for reproducibility."
   ]
  },
  {
   "cell_type": "code",
   "execution_count": 2,
   "id": "45340d59",
   "metadata": {},
   "outputs": [],
   "source": [
    "import torch\n",
    "import torchvision\n",
    "import torchvision.transforms as transforms\n",
    "import torch.nn as nn\n",
    "import torch.optim as optim\n",
    "import numpy as np\n",
    "import random\n"
   ]
  },
  {
   "cell_type": "code",
   "execution_count": 3,
   "id": "1744de7a",
   "metadata": {},
   "outputs": [],
   "source": [
    "seed = 78 # random seed, used for reproducibility\n",
    "torch.manual_seed(seed)\n",
    "torch.cuda.manual_seed(seed)\n",
    "np.random.seed(seed)\n",
    "random.seed(seed)\n",
    "torch.backends.cudnn.deterministic = True\n",
    "torch.backends.cudnn.benchmark = False\n"
   ]
  },
  {
   "cell_type": "markdown",
   "id": "20ab28de",
   "metadata": {},
   "source": [
    "We now download the dataset and prepare it before training"
   ]
  },
  {
   "cell_type": "code",
   "execution_count": 4,
   "id": "e7dc67c4",
   "metadata": {},
   "outputs": [],
   "source": [
    "transform_train = transforms.Compose([\n",
    "    transforms.RandomCrop(32, padding=4),               # random crop for augmentation\n",
    "    transforms.RandomHorizontalFlip(),                  # horizontal flip for augmentation\n",
    "    transforms.ToTensor(),                              # convert to tensor\n",
    "    transforms.Normalize((0.4914, 0.4822, 0.4465),      # normalize by mean and std per channel\n",
    "                         (0.2470, 0.2435, 0.2616))      #These values come from \"https://github.com/kuangliu/pytorch-cifar/issues/19\" where the values for normalization were computed\n",
    "])\n",
    "\n",
    "transform_test = transforms.Compose([\n",
    "    transforms.ToTensor(),\n",
    "    transforms.Normalize((0.4914, 0.4822, 0.4465),\n",
    "                         (0.2470, 0.2435, 0.2616))\n",
    "])\n"
   ]
  },
  {
   "cell_type": "code",
   "execution_count": null,
   "id": "2977c80c",
   "metadata": {},
   "outputs": [
    {
     "name": "stderr",
     "output_type": "stream",
     "text": [
      "100%|██████████| 170M/170M [00:52<00:00, 3.25MB/s] \n"
     ]
    }
   ],
   "source": [
    "train_dataset = torchvision.datasets.CIFAR10(\n",
    "    root='../.data',\n",
    "    train=True,\n",
    "    download=True,\n",
    "    transform=transform_train\n",
    ")\n"
   ]
  }
 ],
 "metadata": {
  "kernelspec": {
   "display_name": ".venv",
   "language": "python",
   "name": "python3"
  },
  "language_info": {
   "codemirror_mode": {
    "name": "ipython",
    "version": 3
   },
   "file_extension": ".py",
   "mimetype": "text/x-python",
   "name": "python",
   "nbconvert_exporter": "python",
   "pygments_lexer": "ipython3",
   "version": "3.11.0"
  }
 },
 "nbformat": 4,
 "nbformat_minor": 5
}
