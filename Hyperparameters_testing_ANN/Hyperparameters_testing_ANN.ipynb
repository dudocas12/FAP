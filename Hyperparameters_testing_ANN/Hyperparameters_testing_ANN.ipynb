{
 "cells": [
  {
   "cell_type": "markdown",
   "id": "c5f50b7c",
   "metadata": {},
   "source": [
    "# Hyperparameter testing for ANN"
   ]
  }
 ],
 "metadata": {
  "language_info": {
   "name": "python"
  }
 },
 "nbformat": 4,
 "nbformat_minor": 5
}
